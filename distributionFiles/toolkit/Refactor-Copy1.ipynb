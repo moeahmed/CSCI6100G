{
 "cells": [
  {
   "cell_type": "code",
   "execution_count": 1,
   "metadata": {},
   "outputs": [],
   "source": [
    "# Usehttp://localhost:8888/notebooks/work/toolkit/caseStudy.ipynb#First,-we-gather-the-dataset.-This-is-a-history-of-static-code-metrics-(C-and-indentation)-and-change-metrics-for-our-project.d to access the toolkit modules in this directory\n",
    "import toolkit"
   ]
  },
  {
   "cell_type": "markdown",
   "metadata": {},
   "source": [
    "### First, we gather the dataset. This is a history of static code metrics (Java, C and indentation) and change metrics for our project."
   ]
  },
  {
   "cell_type": "code",
   "execution_count": 2,
   "metadata": {},
   "outputs": [],
   "source": [
    "#https://github.com/jacobgarcia/linked-lists.git https://github.com/Jenell-M-Hogg/linked-lists"
   ]
  },
  {
   "cell_type": "code",
   "execution_count": null,
   "metadata": {
    "scrolled": false
   },
   "outputs": [
    {
     "name": "stdout",
     "output_type": "stream",
     "text": [
      "0\n",
      "> /home/jovyan/work/toolkit/ckInterface.py(80)processRawCSV()\n",
      "-> row = reader.next()\n",
      "(Pdb) nRows\n",
      "17\n",
      "(Pdb) n\n",
      "> /home/jovyan/work/toolkit/ckInterface.py(81)processRawCSV()\n",
      "-> writer.writerow(row)\n",
      "(Pdb) n\n",
      "> /home/jovyan/work/toolkit/ckInterface.py(83)processRawCSV()\n",
      "-> rowLength = len(featureHeader)\n",
      "(Pdb) n\n",
      "> /home/jovyan/work/toolkit/ckInterface.py(84)processRawCSV()\n",
      "-> rows = 1\n",
      "(Pdb) n\n",
      "> /home/jovyan/work/toolkit/ckInterface.py(86)processRawCSV()\n",
      "-> isNext = True\n",
      "(Pdb) n\n",
      "> /home/jovyan/work/toolkit/ckInterface.py(91)processRawCSV()\n",
      "-> while(rows < nRows):\n",
      "(Pdb) n\n",
      "> /home/jovyan/work/toolkit/ckInterface.py(93)processRawCSV()\n",
      "-> if(isNext):\n",
      "(Pdb) n\n",
      "> /home/jovyan/work/toolkit/ckInterface.py(94)processRawCSV()\n",
      "-> currRow = refineRow(reader.next())\n",
      "(Pdb) n\n",
      "> /home/jovyan/work/toolkit/ckInterface.py(95)processRawCSV()\n",
      "-> rows+=1\n",
      "(Pdb) n\n",
      "> /home/jovyan/work/toolkit/ckInterface.py(99)processRawCSV()\n",
      "-> isNext = True\n",
      "(Pdb) n\n",
      "> /home/jovyan/work/toolkit/ckInterface.py(102)processRawCSV()\n",
      "-> if(rows < nRows-1):\n",
      "(Pdb) n\n",
      "> /home/jovyan/work/toolkit/ckInterface.py(103)processRawCSV()\n",
      "-> nextRow = refineRow(reader.next())\n",
      "(Pdb) n\n",
      "> /home/jovyan/work/toolkit/ckInterface.py(104)processRawCSV()\n",
      "-> rows+=1\n",
      "(Pdb) c\n",
      "> /home/jovyan/work/toolkit/dataGathering.py(97)gatherData()\n",
      "-> return allData\n",
      "(Pdb) codeMetrics\n",
      "                                               entity                class  \\\n",
      "0                                                                    class   \n",
      "1   edListsStudy_linked-lists_PersonaLinkedList_Ar...          ArticulosDP   \n",
      "2   edListsStudy_linked-lists_PersonaLinkedList_Ar...         ArticulosIUG   \n",
      "3   edListsStudy_linked-lists_PersonaLinkedList_Ar...          ArticulosAD   \n",
      "4   edListsStudy_linked-lists_Object-Oriented Prog...       ExponencialGUI   \n",
      "5   edListsStudy_linked-lists_Object-Oriented Prog...           GraphicsPD   \n",
      "6   edListsStudy_linked-lists_Object-Oriented Prog...             BancoGUI   \n",
      "7   edListsStudy_linked-lists_Object-Oriented Prog...           ArticuloAD   \n",
      "8   edListsStudy_linked-lists_Object-Oriented Prog...          GraphicsGUI   \n",
      "9   edListsStudy_linked-lists_Object-Oriented Prog...              BancoAD   \n",
      "10  edListsStudy_linked-lists_Object-Oriented Prog...          Calculadora   \n",
      "11  edListsStudy_linked-lists_Object-Oriented Prog...            CalculoPD   \n",
      "12  edListsStudy_linked-lists_Object-Oriented Prog...            VariosGUI   \n",
      "13  edListsStudy_linked-lists_Object-Oriented Prog...          ProyectoGUI   \n",
      "14  edListsStudy_linked-lists_Object-Oriented Prog...          EcuacionGUI   \n",
      "15  edListsStudy_linked-lists_Object-Oriented Prog...          ArticuloGUI   \n",
      "16  edListsStudy_linked-lists_Object-Oriented Prog...  ConversionGradosGUI   \n",
      "\n",
      "     type  cbo  wmc  dit  rfc  lcom  totalMethods  staticMethods  ...  \\\n",
      "0    type  cbo  wmc  dit  rfc  lcom  totalMethods  staticMethods  ...   \n",
      "1   class    1   15    1    1    23            15              0  ...   \n",
      "2   class    2   92    5   37     0            11              1  ...   \n",
      "3   class    2   52    1   25     6            17              0  ...   \n",
      "4   class    2    9    6   11     0             5              1  ...   \n",
      "5   class    1   17    5    7     1             3              1  ...   \n",
      "6   class    2   36    6   18     0             7              1  ...   \n",
      "7   class    0   26    1    8     0             6              0  ...   \n",
      "8   class    2   13    6   11     4             4              1  ...   \n",
      "9   class    0   26    1    8     0             6              0  ...   \n",
      "10  class    2   42    6   16     4             5              1  ...   \n",
      "11  class    1   80    1    2   190            20              0  ...   \n",
      "12  class    2   15    6   15     0             7              1  ...   \n",
      "13  class    9   36    6   16     1             3              1  ...   \n",
      "14  class    2    8    6   11     0             5              1  ...   \n",
      "15  class    2   34    6   17     0             7              1  ...   \n",
      "16  class    2   11    6   11     2             5              1  ...   \n",
      "\n",
      "    numbersQty  assignmentsQty  mathOperationsQty  variablesQty  \\\n",
      "0   numbersQty  assignmentsQty  mathOperationsQty  variablesQty   \n",
      "1            0              17                  1             7   \n",
      "2           15             101                  6            48   \n",
      "3            1             102                 17            51   \n",
      "4            9              17                  3            17   \n",
      "5           51              13                 24             8   \n",
      "6           13              54                  1            46   \n",
      "7            5              64                  9            34   \n",
      "8            3              12                  0            12   \n",
      "9            5              65                  9            34   \n",
      "10          43              88                 14            42   \n",
      "11         104             123                 79            58   \n",
      "12           7              20                  1            19   \n",
      "13           2              52                  0            36   \n",
      "14           5              18                  2            17   \n",
      "15          13              54                  1            43   \n",
      "16           9              17                  2            14   \n",
      "\n",
      "    maxNestedBlocks  anonymousClassesQty  subClassesQty  lambdasQty  \\\n",
      "0   maxNestedBlocks  anonymousClassesQty  subClassesQty  lambdasQty   \n",
      "1                 0                    0              0           0   \n",
      "2                 5                    0              0           0   \n",
      "3                 3                    0              0           0   \n",
      "4                 2                    0              0           0   \n",
      "5                 2                    0              0           0   \n",
      "6                 5                    0              0           0   \n",
      "7                 3                    0              0           0   \n",
      "8                 1                    0              0           0   \n",
      "9                 3                    0              0           0   \n",
      "10                2                    0              0           0   \n",
      "11                4                    0              0           0   \n",
      "12                2                    0              0           0   \n",
      "13                2                    0              0           0   \n",
      "14                2                    0              0           0   \n",
      "15                5                    0              0           0   \n",
      "16                2                    0              0           0   \n",
      "\n",
      "    uniqueWordsQty  modifiers  \n",
      "0   uniqueWordsQty  modifiers  \n",
      "1               23          1  \n",
      "2              135          1  \n",
      "3               63          1  \n",
      "4               65          1  \n",
      "5               18          1  \n",
      "6              103          1  \n",
      "7               43          1  \n",
      "8               42          1  \n",
      "9               42          1  \n",
      "10              66          1  \n",
      "11              68          1  \n",
      "12              66          1  \n",
      "13              65          1  \n",
      "14              65          1  \n",
      "15              95          1  \n",
      "16              62          1  \n",
      "\n",
      "[17 rows x 43 columns]\n",
      "(Pdb) changeMetrics\n",
      "                                               entity  age-months  n-authors  \\\n",
      "0   {Object-Oriented Programming Project => Progra...           0          1   \n",
      "1   {Object-Oriented Programming Project => Progra...           0          1   \n",
      "2   {Object-Oriented Programming Project => Progra...           0          1   \n",
      "3   {Object-Oriented Programming Project => Progra...           0          1   \n",
      "4   {Object-Oriented Programming Project => Progra...           0          1   \n",
      "5   {Object-Oriented Programming Project => Progra...           0          1   \n",
      "6   {Object-Oriented Programming Project => Progra...           0          1   \n",
      "7   {Object-Oriented Programming Project => Progra...           0          1   \n",
      "8   {Object-Oriented Programming Project => Progra...           0          1   \n",
      "9   {Object-Oriented Programming Project => Progra...           0          1   \n",
      "10  {Object-Oriented Programming Project => Progra...           0          1   \n",
      "11  {Object-Oriented Programming Project => Progra...           0          1   \n",
      "12  {Object-Oriented Programming Project => Progra...           0          1   \n",
      "13                   PersonaLinkedList_PersonaDP.java          68          2   \n",
      "14                   PersonaLinkedList_PersonaAD.java          68          2   \n",
      "15                  PersonaLinkedList_PersonaIUG.java          68          2   \n",
      "\n",
      "    n-revs  added  deleted  fractal-value  soc  netchurn  \n",
      "0        1      0        0           0.00   12         0  \n",
      "1        1      0        0           0.00   12         0  \n",
      "2        1      0        0           0.00   12         0  \n",
      "3        1      0        0           0.00   12         0  \n",
      "4        1      0        0           0.00   12         0  \n",
      "5        1      0        0           0.00   12         0  \n",
      "6        1      0        0           0.00   12         0  \n",
      "7        1      0        0           0.00   12         0  \n",
      "8        1      0        0           0.00   12         0  \n",
      "9        1      0        0           0.00   12         0  \n",
      "10       1      0        0           0.00   12         0  \n",
      "11       1      0        0           0.00   12         0  \n",
      "12       1      0        0           0.00   12         0  \n",
      "13       3     67       27           0.44    6        40  \n",
      "14       3     65       35           0.44    6        30  \n",
      "15       3    138       85           0.44    6        53  \n"
     ]
    }
   ],
   "source": [
    "# Used to indicate where the data should be gathered and stored\n",
    "\n",
    "rootDirectory = '../dataSets/linkedListsStudy/'\n",
    "metricsDataList = toolkit.data.gatherTimeMetrics(rootDirectory, 'https://github.com/Jenell-M-Hogg/linked-lists.git', rootDirectory+'linked-lists/', '*/*.java *.java', ['java'], skipEvery=5)\n"
   ]
  },
  {
   "cell_type": "code",
   "execution_count": null,
   "metadata": {},
   "outputs": [],
   "source": [
    "metricsDataList"
   ]
  },
  {
   "cell_type": "code",
   "execution_count": null,
   "metadata": {},
   "outputs": [],
   "source": [
    "# Used to indicate where the data should be gathered and stored\n",
    "rootDirectory = '../dataSets/springFrameworkStudy/'\n",
    "\n",
    "# Call gatherTimeMetrics and measure Java, Indent and Change metrics \n",
    "# on .java files from the git project's repository\n",
    "#metricsData = toolkit.data.gatherTimeMetrics(rootDirectory, 'https://github.com/spring-projects/spring-framework.git', rootDirectory+'spring-framework/', '*/*.java *.java', ['indent','java'], skipEvery=1000)\n",
    "\n",
    "\n",
    "rootDirectory = '../dataSets/springFrameworkStudy/'\n",
    "metricsDataSpring = toolkit.data.gatherTimeMetrics(rootDirectory, 'https://github.com/spring-projects/spring-framework.git', rootDirectory+'spring-framework/', '*/*.java *.java', ['indent','java'], skipEvery=50)\n",
    "#caseStudyAnalysis(metricsDataOpenSSL)"
   ]
  },
  {
   "cell_type": "markdown",
   "metadata": {},
   "source": [
    "### How many times did we sample from?"
   ]
  },
  {
   "cell_type": "code",
   "execution_count": null,
   "metadata": {},
   "outputs": [],
   "source": [
    "print metricsData['times']\n",
    "print metricsData"
   ]
  },
  {
   "cell_type": "markdown",
   "metadata": {},
   "source": [
    "### How many features and samples are in our dataset?"
   ]
  },
  {
   "cell_type": "code",
   "execution_count": null,
   "metadata": {},
   "outputs": [],
   "source": [
    "print metricsData['data'].shape"
   ]
  },
  {
   "cell_type": "markdown",
   "metadata": {},
   "source": [
    "### How many unique source files were measured?"
   ]
  },
  {
   "cell_type": "code",
   "execution_count": null,
   "metadata": {},
   "outputs": [],
   "source": [
    "print metricsData['data']['entity'].nunique()"
   ]
  },
  {
   "cell_type": "code",
   "execution_count": null,
   "metadata": {},
   "outputs": [],
   "source": [
    "print metricsData['data'].head"
   ]
  },
  {
   "cell_type": "markdown",
   "metadata": {},
   "source": [
    "### Let's see what affects the net churn of files \n",
    "### Which types of files have net churn above and below the mean net churn?"
   ]
  },
  {
   "cell_type": "code",
   "execution_count": null,
   "metadata": {},
   "outputs": [],
   "source": [
    "# We instantiate the scikit-learn decision tree classification model\n",
    "# It is trained with a maximum number of leaf nodes\n",
    "# Samples are binned so as to maximize information gain at higher nodes ('entropy')\n",
    "from sklearn.tree import DecisionTreeClassifier\n",
    "modelInstance = DecisionTreeClassifier(max_leaf_nodes=8, criterion='entropy')\n",
    "modelSimpler = DecisionTreeClassifier(max_leaf_nodes=4, criterion='entropy')\n",
    "churnModel = toolkit.refinement.makeAndUpdateModel(rootDirectory, metricsData['data'], 2, 'netchurn', modelInstance, modelSimpler, visualize=True, scoreOnly=False) "
   ]
  },
  {
   "cell_type": "markdown",
   "metadata": {},
   "source": [
    "### Some observations:\n",
    "- The model has very good Precision, Recall and F1-Score: net churn above/below the mean is classified very well by this model\n",
    "- ROC area under curve is very high: very little compromise between false negative rate and false positive rate\n",
    "- The model says that the features influencing net churn are (strongest to weakest):\n",
    "    - Number of lines added\n",
    "    - Number of lines deleted    \n",
    "- The 'net churn below the mean' class is over-represented in our data (3 times as many samples as the other class)\n",
    "    - However, the model still performs well without any steps taken to address class imbalance (e.g. under/over-sampling)\n",
    "- Interpretation of the visualized decision tree is straightforward:\n",
    "    - 63% of samples were files with less than 34 lines added \n",
    "        - These samples had net churn less than the mean\n",
    "        - Some of these may be very stable files (over the history of the project)\n",
    "    - The files with net churn greater than the mean had more than 108 lines added\n",
    "    - Within this group, there are several subgroups with varying levels of churn"
   ]
  },
  {
   "cell_type": "markdown",
   "metadata": {},
   "source": [
    "### In the above step, we only performed 2-fold cross validation (1 training set, 1 test set)\n",
    "\n",
    "### How does this approach perform with more cross-validation folds in time?"
   ]
  },
  {
   "cell_type": "code",
   "execution_count": null,
   "metadata": {},
   "outputs": [],
   "source": [
    "# We split the data into 5 equally-sized groups, \n",
    "# then perform cross-validation while gradually adding these groups to the training set\n",
    "\n",
    "# i.e. the train-test splits are with groups of size:\n",
    "# 1-4, 2-3, 3-2, 4-1\n",
    "\n",
    "# We omit visualization of decision trees to save space,\n",
    "# but they can be shown with visualize=True as above\n",
    "folds = 5\n",
    "churnModelMoreFolds = toolkit.refinement.makeAndUpdateModel(rootDirectory, metricsData['data'], folds, 'netchurn', modelInstance, modelSimpler, scoreOnly=False) "
   ]
  },
  {
   "cell_type": "markdown",
   "metadata": {},
   "source": [
    "### Each of the subsets still exhibits class imbalance (but not with the same ratio)\n",
    "### In particular, the 2nd train-test split has the most balanced classes (2:1) among the five splits\n",
    "\n",
    "### We still see very good performance, and the same features are important throughout\n",
    "### How far can we go? Let's cross-validate on every sampled time!"
   ]
  },
  {
   "cell_type": "code",
   "execution_count": null,
   "metadata": {},
   "outputs": [],
   "source": [
    "folds = metricsData['times'] # This is an attribute of the measured data set: the number of time points measured\n",
    "#churnModelMoreFolds = toolkit.refinement.makeAndUpdateModel(rootDirectory, metricsData['data'], folds, 'netchurn', modelInstance, scoreOnly=False) "
   ]
  },
  {
   "cell_type": "markdown",
   "metadata": {},
   "source": [
    "### Results of this step are omitted for printing. However, the large cross-validation can be run to see them."
   ]
  },
  {
   "cell_type": "markdown",
   "metadata": {},
   "source": [
    "### The individual data sets used for training and testing are quite small and imbalanced.\n",
    "\n",
    "### Many of the same relationships still show up.\n",
    "\n",
    "### Why is 'added' a much more important factor than 'deleted'? "
   ]
  },
  {
   "cell_type": "code",
   "execution_count": null,
   "metadata": {},
   "outputs": [],
   "source": [
    "print metricsData['data']['netchurn'].mean()\n",
    "print metricsData['data']['netchurn'].var()\n",
    "print metricsData['data']['netchurn'].std()\n",
    "print metricsData['data']['netchurn'].max()\n",
    "print metricsData['data']['netchurn'].min()"
   ]
  },
  {
   "cell_type": "markdown",
   "metadata": {},
   "source": [
    "### This codebase is *growing* in general (more added than deleted)\n",
    "\n",
    "### Some files must experience more churn than others. We know from some of the motivating literature that defects can be correlated with large pre-release churn.\n",
    "\n",
    "### Let's make some categories of binned churn data and classify them "
   ]
  },
  {
   "cell_type": "code",
   "execution_count": null,
   "metadata": {},
   "outputs": [],
   "source": [
    "churnBinnedCategories = ['churnLow','churnMedium','churnHigh','churnHigher', 'churnHighest']\n",
    "dataSetUpdated = toolkit.utilities.addBinnedResponseCategory(metricsData['data'], 'netchurn', churnBinnedCategories)\n",
    "\n",
    "from sklearn.tree import DecisionTreeClassifier\n",
    "modelInstance = DecisionTreeClassifier(max_leaf_nodes=8, criterion='entropy')\n",
    "churnModelCategories = toolkit.refinement.makeAndUpdateModel(rootDirectory, dataSetUpdated, 2, churnBinnedCategories, modelInstance, modelSimpler, visualize=True, scoreOnly=False) "
   ]
  },
  {
   "cell_type": "markdown",
   "metadata": {},
   "source": [
    "### Now we're seeing something interesting. The vast majority of the files exhibit very low amounts of churn. A select few files receive most of the lines added/deleted. Does the class imbalance impact the validity of this model? Let's try more cross-validation to see."
   ]
  },
  {
   "cell_type": "code",
   "execution_count": null,
   "metadata": {},
   "outputs": [],
   "source": [
    "folds = 3\n",
    "churnModelCategories = toolkit.refinement.makeAndUpdateModel(rootDirectory, dataSetUpdated, folds, churnBinnedCategories, modelInstance, modelSimpler, visualize=True, scoreOnly=False) "
   ]
  },
  {
   "cell_type": "markdown",
   "metadata": {},
   "source": [
    "### Let's look at this from another point of view. What characterises the files which have the most lines added?"
   ]
  },
  {
   "cell_type": "code",
   "execution_count": null,
   "metadata": {},
   "outputs": [],
   "source": [
    "addedModel = toolkit.refinement.makeAndUpdateModel(rootDirectory, metricsData['data'], 2, 'added', modelInstance, modelSimpler, visualize=True, scoreOnly=False) "
   ]
  },
  {
   "cell_type": "markdown",
   "metadata": {},
   "source": [
    "### Net churn and deleted lines are strongly related. What do we find if we're not allowed to use these in our decision tree?"
   ]
  },
  {
   "cell_type": "code",
   "execution_count": null,
   "metadata": {},
   "outputs": [],
   "source": [
    "alteredData = metricsData['data'].drop(['netchurn','deleted'], axis=1)\n",
    "addedModel = toolkit.refinement.makeAndUpdateModel(rootDirectory, alteredData, 2, 'added', modelInstance, modelSimpler, visualize=True, scoreOnly=False) "
   ]
  },
  {
   "cell_type": "markdown",
   "metadata": {},
   "source": [
    "### The model uses n-revs as the most important feature, but it does not classify '# lines added above the mean' very well"
   ]
  },
  {
   "cell_type": "code",
   "execution_count": null,
   "metadata": {},
   "outputs": [],
   "source": [
    "alteredData2 = metricsData['data'].drop(['netchurn','deleted','n-revs'], axis=1)\n",
    "addedModel2 = toolkit.refinement.makeAndUpdateModel(rootDirectory, alteredData2, 2, 'added', modelInstance, modelSimpler, visualize=True, scoreOnly=False) "
   ]
  },
  {
   "cell_type": "markdown",
   "metadata": {},
   "source": [
    "### n-authors has similar problems with identifying the minority class"
   ]
  },
  {
   "cell_type": "code",
   "execution_count": null,
   "metadata": {},
   "outputs": [],
   "source": [
    "alteredData3 = metricsData['data'].drop(['netchurn','deleted','n-revs','n-authors'], axis=1)\n",
    "addedModel3 = toolkit.refinement.makeAndUpdateModel(rootDirectory, alteredData3, 2, 'added', modelInstance, modelSimpler, visualize=True, scoreOnly=False) "
   ]
  },
  {
   "cell_type": "markdown",
   "metadata": {},
   "source": [
    "### fractal-value is derived from n-revs and n-authors\n",
    "\n",
    "### Let's get rid of it and build a regression model for nline\n",
    "### This model will predict the sizes of files based on their other static features"
   ]
  },
  {
   "cell_type": "code",
   "execution_count": null,
   "metadata": {},
   "outputs": [],
   "source": [
    "from sklearn.tree import DecisionTreeRegressor\n",
    "modelInstanceR = DecisionTreeRegressor(max_leaf_nodes=8)\n",
    "modelInstanceRsimpler = DecisionTreeRegressor(max_leaf_nodes=4)\n",
    "alteredData4 = metricsData['data'].drop(['netchurn','deleted','n-revs','n-authors','fractal-value'], axis=1)\n",
    "nlineModelR = toolkit.refinement.makeAndUpdateModel(rootDirectory, alteredData4, 2, 'nline', modelInstanceR, modelInstanceRsimpler, visualize=False, scoreOnly=False)"
   ]
  },
  {
   "cell_type": "markdown",
   "metadata": {},
   "source": [
    "### We see that the number of indented lines is a very good predictor of the number of lines\n",
    "\n",
    "### Is the model using indent_lines because it is correlated with nline?"
   ]
  },
  {
   "cell_type": "code",
   "execution_count": null,
   "metadata": {},
   "outputs": [],
   "source": [
    "# We use the Spearman measure of rank correlation\n",
    "metricsData['data']['nline'].corr(metricsData['data']['indent_lines'], method='spearman')"
   ]
  },
  {
   "cell_type": "markdown",
   "metadata": {},
   "source": [
    "### Let's remove indent_lines from this data set\n",
    "### Are we still able to regress on nline (and with high performance)?"
   ]
  },
  {
   "cell_type": "code",
   "execution_count": null,
   "metadata": {},
   "outputs": [],
   "source": [
    "alteredData5 = metricsData['data'].drop(['indent_lines','nchar','nstatement','nidentifier'], axis=1)\n",
    "nlineModelR2 = toolkit.refinement.makeAndUpdateModel(rootDirectory, alteredData5, 2, 'nline', modelInstanceR, modelInstanceRsimpler, visualize=False, scoreOnly=False)"
   ]
  },
  {
   "cell_type": "markdown",
   "metadata": {},
   "source": [
    "### cqmetrics provides several measures of the 'number of functions' contained in a file (each calculated differently)\n",
    "\n",
    "### The model uses these to predict the size of files"
   ]
  },
  {
   "cell_type": "code",
   "execution_count": null,
   "metadata": {},
   "outputs": [],
   "source": [
    "alteredData6 = metricsData['data'].drop(['indent_lines','nchar','nstatement','nidentifier', 'nfunction','nfunction2','nfunction3'], axis=1)\n",
    "nlineModelR3 = toolkit.refinement.makeAndUpdateModel(rootDirectory, alteredData6, 2, 'nline', modelInstanceR, modelInstanceRsimpler, visualize=False, scoreOnly=False)"
   ]
  },
  {
   "cell_type": "code",
   "execution_count": null,
   "metadata": {},
   "outputs": [],
   "source": [
    "alteredData7 = metricsData['data'].drop(['indent_lines','nchar','nstatement','nidentifier', 'nfunction','nfunction2','nfunction3', 'unique_nidentifier'], axis=1)\n",
    "nlineModelR4 = toolkit.refinement.makeAndUpdateModel(rootDirectory, alteredData7, 2, 'nline', modelInstanceR, modelInstanceRsimpler, visualize=False, scoreOnly=False)"
   ]
  },
  {
   "cell_type": "markdown",
   "metadata": {},
   "source": [
    "### Our regression model of nline needs the number of (unique) identifiers, and the number of functions in a file to explain the variance in our dataset\n",
    "\n",
    "### Without these features, the model rapidly loses accuracy.\n",
    "\n",
    "### From all the features we measure, the only ones which are strong predictors of size are other measures of such (which are bound to be correlated - lines of source code necessarily add identifiers, operators, functions etc as counted by Halstead's metrics)\n",
    "\n",
    "### We see that the maximum Halstead complexity metric among the functions in each file is a (weak) predictor under this model. The measures from which it is calculated have a much stronger correlation with size.\n",
    "\n",
    "### What about modelling these measures of complexity?"
   ]
  },
  {
   "cell_type": "code",
   "execution_count": null,
   "metadata": {},
   "outputs": [],
   "source": [
    "cycloData = metricsData['data'].drop(['cyclomatic_sd', 'cyclomatic_mean'], axis=1)\n",
    "cycloModelR = toolkit.refinement.makeAndUpdateModel(rootDirectory, cycloData, 2, 'cyclomatic_max', modelInstanceR, modelInstanceRsimpler, visualize=False, scoreOnly=False)"
   ]
  },
  {
   "cell_type": "markdown",
   "metadata": {},
   "source": [
    "### Cyclomatic complexity seems to be similar to Halstead complexity for our dataset\n",
    "### The measures which are used to derive both of these are also predictors. Let's remove them and repeat.."
   ]
  },
  {
   "cell_type": "code",
   "execution_count": null,
   "metadata": {},
   "outputs": [],
   "source": [
    "cycloData2 = metricsData['data'].drop(['halstead_sd','nidentifier','halstead_mean','halstead_min','cyclomatic_sd', 'cyclomatic_mean', 'halstead_max','nstatement','statement_nesting_mean'], axis=1)\n",
    "cycloModelR = toolkit.refinement.makeAndUpdateModel(rootDirectory, cycloData2, 2, 'cyclomatic_max', modelInstanceR, modelInstanceRsimpler, visualize=False, scoreOnly=False)"
   ]
  },
  {
   "cell_type": "markdown",
   "metadata": {},
   "source": [
    "### The number of static variables and the mean indentation level of files are strong predictors of cyclomatic complexity for our dataset\n",
    "\n",
    "### This indentation predictor is similar to the findings of Hindle. \n",
    "### What about the 'ninternal' (static linkage) result? The files containing functions with higher cyclomatic complexity also have more variables (which are shared between functions in the same file)?\n",
    "### This may be starting to give some insight into our codebase. Perhaps our code overuses file-global variables together with functions which are difficult to test.\n",
    "\n",
    "### Can we model indentation? What leads to 'wider' files?"
   ]
  },
  {
   "cell_type": "code",
   "execution_count": null,
   "metadata": {},
   "outputs": [],
   "source": [
    "indentData = metricsData['data'].drop(['indent_sd','indent_median','indent_max','indent_lines'],axis=1)\n",
    "indentModelR = toolkit.refinement.makeAndUpdateModel(rootDirectory, indentData, 2, 'indent_mean', modelInstanceR, modelInstanceRsimpler, visualize=False, scoreOnly=False)"
   ]
  },
  {
   "cell_type": "markdown",
   "metadata": {},
   "source": [
    "### The files with more nesting (which drives Halstead's complexity) are more indented\n",
    "\n",
    "### This tells us that our codebase uses indentation to *indicate* nesting frequently. This is typical in C programming, of course. However, there is value in this seemingly simple result: to locate the files with high syntax-driven measures of complexity in this codebase, we can use a heuristic like the level of indentation instead.\n",
    "\n",
    "### It is important to also consider that our dataset does not have other measures of complexity which have *not* been represented by this model.  Halstead and McCabe's measures are dominant in the measurement of C programs, but other measures of complexity which are not strongly connected with structural *nesting* may not be predicted by indentation. In other words, indentation does not necessarily predict *complexity* - it predicts *Halstead and McCabe complexity*."
   ]
  },
  {
   "cell_type": "code",
   "execution_count": null,
   "metadata": {},
   "outputs": [],
   "source": [
    "indentModelC = toolkit.refinement.makeAndUpdateModel(rootDirectory, indentData, 2, 'indent_mean', modelInstance, modelSimpler, visualize=False, scoreOnly=False)"
   ]
  },
  {
   "cell_type": "markdown",
   "metadata": {},
   "source": [
    "### We can use the DecisionTreeClassifier to bin samples above and below the mean indentation level, more effectively than we can predict the indentation level itself via regression.\n",
    "\n",
    "### To what degree is this true? Let's try adding more categories as before."
   ]
  },
  {
   "cell_type": "code",
   "execution_count": null,
   "metadata": {},
   "outputs": [],
   "source": [
    "indentBinnedCategories = ['iLow','iMedium','iHigh','iVeryHigh']\n",
    "dataSetUpdated = toolkit.utilities.addBinnedResponseCategory(indentData, 'indent_mean', indentBinnedCategories)\n",
    "indentModelC = toolkit.refinement.makeAndUpdateModel(rootDirectory, dataSetUpdated, 2, indentBinnedCategories, modelInstance, modelSimpler, visualize=False, scoreOnly=False)"
   ]
  },
  {
   "cell_type": "markdown",
   "metadata": {},
   "source": [
    "### This model suffers from class imbalance: with only 8 leaves, it loses accuracy when predicting the files with the most indentation. This is a common issue with decision trees being exposed by our dataset. It is not a property of our codebase or of C source code.\n",
    "\n",
    "### In this case, we can use an *ensemble model* to make up for the loss of accuracy in the minority class. However, we do so at the expense of model interpretation. \n",
    "\n",
    "### We build a random forest: a group of decision trees are made with the first decision chosen at random. The group of trees is used to classify each sample, and a majority voting scheme decides the model output.\n",
    "\n",
    "### This has the effect of creating more trees. Some may resemble the above single tree (which accurately modelled *most* of our data). Others may be highly inaccurate, except for small subsets of the data. \n",
    "\n",
    "### The training of this model is 'embarassingly parallel': we use all the available CPU cores in parallel to create our decision trees.\n",
    "\n",
    "### Forest models can be difficult to tune, and to interpret. We omit visualization of the many trees. For automated classification tasks used in a production environment (as opposed to empirical research), forests may be valuable despite their lack of interpretability."
   ]
  },
  {
   "cell_type": "code",
   "execution_count": null,
   "metadata": {},
   "outputs": [],
   "source": [
    "# For parallel construction of forest models\n",
    "import psutil\n",
    "cores = psutil.cpu_count()\n",
    "\n",
    "from sklearn.ensemble import RandomForestClassifier\n",
    "# We build a forest of n_estimators trees, with no restriction on the breadth/depth of trees.\n",
    "modelCF = RandomForestClassifier(n_estimators=500, criterion='entropy', n_jobs=cores)\n",
    "modelCFsimpler = RandomForestClassifier(n_estimators=20, max_leaf_nodes=2, criterion='entropy', n_jobs=cores) # Each tree makes one decision\n",
    "updatedModelCF = toolkit.refinement.makeAndUpdateModel(rootDirectory, dataSetUpdated, 2, indentBinnedCategories, modelCF, modelCFsimpler, scoreOnly=False, visualize=False)"
   ]
  },
  {
   "cell_type": "markdown",
   "metadata": {},
   "source": [
    "### The resulting forest together uses many features. Many of these are named entities - our trees are individually modelling the files in our codebase. This showcases a possible threat to the use of forest models with our dataset: there may be a tendency to model the one-hot encoded entities.\n",
    "\n",
    "### We also note that the minority class is predicted with high Precision, but low Recall. From the high-indentation files we predict, they are predicted correctly. However, most of the high-indentation files are missed even by this model. The F1-Score (the harmonic mean of Precision and Recall) is similarly low.\n",
    "\n",
    "### Since the training of a random forest includes random choices (the initial splits in each tree), the results of this cell may vary each time it is run. The models before and after the update are likely to differ."
   ]
  },
  {
   "cell_type": "markdown",
   "metadata": {},
   "source": [
    "### In this case study, we have used the toolkit to do the following:\n",
    "- Gather the Git dataset\n",
    "- Create classification models of net churn: above and below the mean, in five binned categories\n",
    "- Create regression models of file size and cyclomatic complexity\n",
    "- Create regression and classification models of mean indentation \n",
    "    - Including a brief test of random forests to improve classification performance with a very small minority class we wish to predict: the files with the highest mean indentation level"
   ]
  }
 ],
 "metadata": {
  "kernelspec": {
   "display_name": "Python 2",
   "language": "python",
   "name": "python2"
  },
  "language_info": {
   "codemirror_mode": {
    "name": "ipython",
    "version": 2
   },
   "file_extension": ".py",
   "mimetype": "text/x-python",
   "name": "python",
   "nbconvert_exporter": "python",
   "pygments_lexer": "ipython2",
   "version": "2.7.15"
  }
 },
 "nbformat": 4,
 "nbformat_minor": 1
}
